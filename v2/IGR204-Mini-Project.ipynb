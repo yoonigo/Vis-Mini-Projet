{
 "cells": [
  {
   "cell_type": "markdown",
   "id": "bff42e4f",
   "metadata": {},
   "source": [
    "#  Baby names mini-project"
   ]
  },
  {
   "cell_type": "markdown",
   "id": "dec76bf4",
   "metadata": {},
   "source": [
    "### Import  libraries:"
   ]
  },
  {
   "cell_type": "code",
   "execution_count": 201,
   "id": "bc0c5691",
   "metadata": {},
   "outputs": [],
   "source": [
    "import altair as alt\n",
    "import pandas as pd\n",
    "import geopandas as gpd \n",
    "from IPython.display import display\n",
    "\n",
    "alt.data_transformers.enable('json') \n",
    "\n",
    "from ipywidgets import interact, interactive, fixed, interact_manual,Dropdown\n",
    "import ipywidgets as widgets\n",
    "\n",
    "pass"
   ]
  },
  {
   "cell_type": "markdown",
   "id": "56e4072b",
   "metadata": {},
   "source": [
    "### Reading data:"
   ]
  },
  {
   "cell_type": "code",
   "execution_count": 202,
   "id": "bae2c416",
   "metadata": {},
   "outputs": [
    {
     "data": {
      "text/html": [
       "<div>\n",
       "<style scoped>\n",
       "    .dataframe tbody tr th:only-of-type {\n",
       "        vertical-align: middle;\n",
       "    }\n",
       "\n",
       "    .dataframe tbody tr th {\n",
       "        vertical-align: top;\n",
       "    }\n",
       "\n",
       "    .dataframe thead th {\n",
       "        text-align: right;\n",
       "    }\n",
       "</style>\n",
       "<table border=\"1\" class=\"dataframe\">\n",
       "  <thead>\n",
       "    <tr style=\"text-align: right;\">\n",
       "      <th></th>\n",
       "      <th>sexe</th>\n",
       "      <th>preusuel</th>\n",
       "      <th>annais</th>\n",
       "      <th>dpt</th>\n",
       "      <th>nombre</th>\n",
       "    </tr>\n",
       "  </thead>\n",
       "  <tbody>\n",
       "    <tr>\n",
       "      <th>2101527</th>\n",
       "      <td>2</td>\n",
       "      <td>CÉLIA</td>\n",
       "      <td>1987</td>\n",
       "      <td>57</td>\n",
       "      <td>21</td>\n",
       "    </tr>\n",
       "    <tr>\n",
       "      <th>2443048</th>\n",
       "      <td>2</td>\n",
       "      <td>FELICITE</td>\n",
       "      <td>1906</td>\n",
       "      <td>59</td>\n",
       "      <td>5</td>\n",
       "    </tr>\n",
       "    <tr>\n",
       "      <th>3291093</th>\n",
       "      <td>2</td>\n",
       "      <td>NANCY</td>\n",
       "      <td>1974</td>\n",
       "      <td>54</td>\n",
       "      <td>12</td>\n",
       "    </tr>\n",
       "    <tr>\n",
       "      <th>673457</th>\n",
       "      <td>1</td>\n",
       "      <td>GUY</td>\n",
       "      <td>1933</td>\n",
       "      <td>36</td>\n",
       "      <td>56</td>\n",
       "    </tr>\n",
       "    <tr>\n",
       "      <th>151704</th>\n",
       "      <td>1</td>\n",
       "      <td>ANTONIO</td>\n",
       "      <td>1951</td>\n",
       "      <td>69</td>\n",
       "      <td>5</td>\n",
       "    </tr>\n",
       "    <tr>\n",
       "      <th>352266</th>\n",
       "      <td>1</td>\n",
       "      <td>DANIEL</td>\n",
       "      <td>1938</td>\n",
       "      <td>83</td>\n",
       "      <td>19</td>\n",
       "    </tr>\n",
       "    <tr>\n",
       "      <th>3252428</th>\n",
       "      <td>2</td>\n",
       "      <td>MORGANE</td>\n",
       "      <td>1971</td>\n",
       "      <td>75</td>\n",
       "      <td>10</td>\n",
       "    </tr>\n",
       "    <tr>\n",
       "      <th>2886148</th>\n",
       "      <td>2</td>\n",
       "      <td>LOLA</td>\n",
       "      <td>1999</td>\n",
       "      <td>29</td>\n",
       "      <td>9</td>\n",
       "    </tr>\n",
       "    <tr>\n",
       "      <th>2348254</th>\n",
       "      <td>2</td>\n",
       "      <td>ELORRI</td>\n",
       "      <td>1983</td>\n",
       "      <td>64</td>\n",
       "      <td>3</td>\n",
       "    </tr>\n",
       "    <tr>\n",
       "      <th>231318</th>\n",
       "      <td>1</td>\n",
       "      <td>BERNARD</td>\n",
       "      <td>1948</td>\n",
       "      <td>25</td>\n",
       "      <td>166</td>\n",
       "    </tr>\n",
       "  </tbody>\n",
       "</table>\n",
       "</div>"
      ],
      "text/plain": [
       "         sexe  preusuel annais dpt  nombre\n",
       "2101527     2     CÉLIA   1987  57      21\n",
       "2443048     2  FELICITE   1906  59       5\n",
       "3291093     2     NANCY   1974  54      12\n",
       "673457      1       GUY   1933  36      56\n",
       "151704      1   ANTONIO   1951  69       5\n",
       "352266      1    DANIEL   1938  83      19\n",
       "3252428     2   MORGANE   1971  75      10\n",
       "2886148     2      LOLA   1999  29       9\n",
       "2348254     2    ELORRI   1983  64       3\n",
       "231318      1   BERNARD   1948  25     166"
      ]
     },
     "execution_count": 202,
     "metadata": {},
     "output_type": "execute_result"
    }
   ],
   "source": [
    "#### code taken form altair tutorial\n",
    "\n",
    "#national dataset\n",
    "na_data = pd.DataFrame(pd.read_csv(\"nat-data.tsv\", sep=\"\\t\"))\n",
    "na_data.drop(na_data[na_data.preusuel == '_PRENOMS_RARES'].index, inplace=True)\n",
    "na_data.drop(na_data[na_data.annais == 'XXXX'].index, inplace=True)\n",
    "\n",
    "# dataset per departement\n",
    "names = pd.read_csv(\"dpt2020.csv\", sep=\";\")\n",
    "names.drop(names[names.preusuel == '_PRENOMS_RARES'].index, inplace=True)\n",
    "names.drop(names[names.dpt == 'XX'].index, inplace=True)\n",
    "names.drop(names[names.dpt == 'NAN'].index, inplace=True)\n",
    "names.sample(10)\n"
   ]
  },
  {
   "cell_type": "code",
   "execution_count": 203,
   "id": "2e665433",
   "metadata": {},
   "outputs": [
    {
     "data": {
      "text/plain": [
       "(586591, 4)"
      ]
     },
     "execution_count": 203,
     "metadata": {},
     "output_type": "execute_result"
    }
   ],
   "source": [
    "# Just to test visualisation\n",
    "#na_data=na_data[50999:150000]\n",
    "na_data.shape"
   ]
  },
  {
   "cell_type": "markdown",
   "id": "8aa01e52",
   "metadata": {},
   "source": [
    "### DATA MANIPULATION:"
   ]
  },
  {
   "cell_type": "markdown",
   "id": "28348882",
   "metadata": {},
   "source": [
    "###### National data"
   ]
  },
  {
   "cell_type": "code",
   "execution_count": 204,
   "id": "b114f30e",
   "metadata": {},
   "outputs": [
    {
     "data": {
      "text/plain": [
       "'1900'"
      ]
     },
     "execution_count": 204,
     "metadata": {},
     "output_type": "execute_result"
    }
   ],
   "source": [
    "List_name=na_data['preusuel'].unique()\n",
    "\n",
    "List_year=na_data['annais'].unique()\n",
    "\n",
    "nat_data_name={}\n",
    "    \n",
    "List_year.sort()\n",
    "List_year[0]"
   ]
  },
  {
   "cell_type": "code",
   "execution_count": 205,
   "id": "d3aac91e",
   "metadata": {},
   "outputs": [],
   "source": [
    "\n",
    "#distribution by year\n",
    "for i in range(len(List_year)):\n",
    "    nat_data_name[List_year[i]]=na_data.loc[na_data['annais'] == List_year[i]]\n",
    "    "
   ]
  },
  {
   "cell_type": "markdown",
   "id": "358d6947",
   "metadata": {},
   "source": [
    "#### Department data"
   ]
  },
  {
   "cell_type": "code",
   "execution_count": 206,
   "id": "f845248d",
   "metadata": {},
   "outputs": [],
   "source": [
    "year_data_name={}\n",
    "\n",
    "List_dep=names['dpt'].unique()\n",
    "\n",
    "#distribution by year\n",
    "for i in range(len(List_year)):\n",
    "    year_data_name[List_year[i]]=names.loc[names['annais'] == List_year[i]]\n"
   ]
  },
  {
   "cell_type": "code",
   "execution_count": 207,
   "id": "1f8a11f1",
   "metadata": {},
   "outputs": [],
   "source": [
    "# List_name_per_dep=dep_data_name['84']['preusuel'].unique()\n",
    "# List_year_per_dep=dep_data_name['84']['annais'].unique()\n",
    "# List_year_per_dep\n",
    "\n",
    "dep_year_popular_name={}\n",
    "sub_dp_year_popular_name={}\n",
    "sub_sub_dp_year_popular_name={}\n",
    "\n",
    "for i in range(len(List_year)):\n",
    "    dep_year_popular_name[List_year[i]]=[]\n",
    "    for j in List_dep:\n",
    "        sub_dp_year_popular_name[j]=year_data_name[List_year[i]].loc[year_data_name[List_year[i]]['dpt'] ==j]\n",
    "        dep_year_popular_name[List_year[i]].append(sub_dp_year_popular_name[j])"
   ]
  },
  {
   "cell_type": "code",
   "execution_count": 100,
   "id": "e8722901",
   "metadata": {},
   "outputs": [
    {
     "name": "stdout",
     "output_type": "stream",
     "text": [
      "['MARIE', 'JEAN', 'ANDRÉ', 'JEANNE', 'PIERRE', 'RENÉ', 'MARCEL', 'ROGER', 'LOUIS', 'HENRI']\n"
     ]
    }
   ],
   "source": [
    "### find the 10 popular names in each year\n",
    "\n",
    "nat_data_name_popular={}  #dictionnary of the 10 popular names for each year\n",
    "nat_exten_name_popular={} #dictionnary of the 50 popular names for each year\n",
    "    \n",
    "    \n",
    "for i in range(len(List_year)):\n",
    "     nat_data_name[List_year[i]]=nat_data_name[List_year[i]].sort_values(by=['nombre'],ascending=False)\n",
    "     nat_data_name_popular[List_year[i]]=nat_data_name[List_year[i]][:10]\n",
    "     nat_exten_name_popular[List_year[i]]=nat_data_name[List_year[i]][:50]\n",
    "print(list(nat_data_name_popular['1920']['preusuel'])) #perfect  "
   ]
  },
  {
   "cell_type": "markdown",
   "id": "ed1467cb",
   "metadata": {},
   "source": [
    "## Second visualisation"
   ]
  },
  {
   "cell_type": "code",
   "execution_count": 208,
   "id": "4ea9199b",
   "metadata": {},
   "outputs": [
    {
     "data": {
      "text/html": [
       "<div>\n",
       "<style scoped>\n",
       "    .dataframe tbody tr th:only-of-type {\n",
       "        vertical-align: middle;\n",
       "    }\n",
       "\n",
       "    .dataframe tbody tr th {\n",
       "        vertical-align: top;\n",
       "    }\n",
       "\n",
       "    .dataframe thead th {\n",
       "        text-align: right;\n",
       "    }\n",
       "</style>\n",
       "<table border=\"1\" class=\"dataframe\">\n",
       "  <thead>\n",
       "    <tr style=\"text-align: right;\">\n",
       "      <th></th>\n",
       "      <th>code</th>\n",
       "      <th>nom</th>\n",
       "      <th>geometry</th>\n",
       "    </tr>\n",
       "  </thead>\n",
       "  <tbody>\n",
       "    <tr>\n",
       "      <th>23</th>\n",
       "      <td>25</td>\n",
       "      <td>Doubs</td>\n",
       "      <td>POLYGON ((6.80701 47.56280, 6.81666 47.54792, ...</td>\n",
       "    </tr>\n",
       "    <tr>\n",
       "      <th>36</th>\n",
       "      <td>36</td>\n",
       "      <td>Indre</td>\n",
       "      <td>POLYGON ((1.32667 47.18623, 1.40143 47.21245, ...</td>\n",
       "    </tr>\n",
       "    <tr>\n",
       "      <th>90</th>\n",
       "      <td>90</td>\n",
       "      <td>Territoire de Belfort</td>\n",
       "      <td>POLYGON ((6.82354 47.81305, 6.84618 47.82295, ...</td>\n",
       "    </tr>\n",
       "    <tr>\n",
       "      <th>71</th>\n",
       "      <td>71</td>\n",
       "      <td>Saône-et-Loire</td>\n",
       "      <td>POLYGON ((4.11597 47.12334, 4.15377 47.11456, ...</td>\n",
       "    </tr>\n",
       "    <tr>\n",
       "      <th>77</th>\n",
       "      <td>77</td>\n",
       "      <td>Seine-et-Marne</td>\n",
       "      <td>POLYGON ((2.57166 48.69201, 2.56880 48.70722, ...</td>\n",
       "    </tr>\n",
       "  </tbody>\n",
       "</table>\n",
       "</div>"
      ],
      "text/plain": [
       "   code                    nom  \\\n",
       "23   25                  Doubs   \n",
       "36   36                  Indre   \n",
       "90   90  Territoire de Belfort   \n",
       "71   71         Saône-et-Loire   \n",
       "77   77         Seine-et-Marne   \n",
       "\n",
       "                                             geometry  \n",
       "23  POLYGON ((6.80701 47.56280, 6.81666 47.54792, ...  \n",
       "36  POLYGON ((1.32667 47.18623, 1.40143 47.21245, ...  \n",
       "90  POLYGON ((6.82354 47.81305, 6.84618 47.82295, ...  \n",
       "71  POLYGON ((4.11597 47.12334, 4.15377 47.11456, ...  \n",
       "77  POLYGON ((2.57166 48.69201, 2.56880 48.70722, ...  "
      ]
     },
     "execution_count": 208,
     "metadata": {},
     "output_type": "execute_result"
    }
   ],
   "source": [
    "# departement data\n",
    "\n",
    "departement = gpd.read_file('departements-version-simplifiee.geojson')\n",
    "\n",
    "departement.sample(5)"
   ]
  },
  {
   "cell_type": "code",
   "execution_count": 209,
   "id": "99734f59",
   "metadata": {},
   "outputs": [
    {
     "data": {
      "text/html": [
       "<div>\n",
       "<style scoped>\n",
       "    .dataframe tbody tr th:only-of-type {\n",
       "        vertical-align: middle;\n",
       "    }\n",
       "\n",
       "    .dataframe tbody tr th {\n",
       "        vertical-align: top;\n",
       "    }\n",
       "\n",
       "    .dataframe thead th {\n",
       "        text-align: right;\n",
       "    }\n",
       "</style>\n",
       "<table border=\"1\" class=\"dataframe\">\n",
       "  <thead>\n",
       "    <tr style=\"text-align: right;\">\n",
       "      <th></th>\n",
       "      <th>code</th>\n",
       "      <th>nom</th>\n",
       "      <th>geometry</th>\n",
       "      <th>sexe</th>\n",
       "      <th>preusuel</th>\n",
       "      <th>annais</th>\n",
       "      <th>dpt</th>\n",
       "      <th>nombre</th>\n",
       "    </tr>\n",
       "  </thead>\n",
       "  <tbody>\n",
       "    <tr>\n",
       "      <th>3568216</th>\n",
       "      <td>78</td>\n",
       "      <td>Yvelines</td>\n",
       "      <td>POLYGON ((2.20059 48.90868, 2.16838 48.89508, ...</td>\n",
       "      <td>2</td>\n",
       "      <td>TANIA</td>\n",
       "      <td>1989</td>\n",
       "      <td>78</td>\n",
       "      <td>8</td>\n",
       "    </tr>\n",
       "    <tr>\n",
       "      <th>2921424</th>\n",
       "      <td>02</td>\n",
       "      <td>Aisne</td>\n",
       "      <td>POLYGON ((4.04797 49.40564, 4.03991 49.39740, ...</td>\n",
       "      <td>2</td>\n",
       "      <td>MADISON</td>\n",
       "      <td>1996</td>\n",
       "      <td>02</td>\n",
       "      <td>4</td>\n",
       "    </tr>\n",
       "    <tr>\n",
       "      <th>1061000</th>\n",
       "      <td>94</td>\n",
       "      <td>Val-de-Marne</td>\n",
       "      <td>POLYGON ((2.33190 48.81701, 2.36395 48.81632, ...</td>\n",
       "      <td>1</td>\n",
       "      <td>MANUEL</td>\n",
       "      <td>1974</td>\n",
       "      <td>94</td>\n",
       "      <td>21</td>\n",
       "    </tr>\n",
       "    <tr>\n",
       "      <th>3643767</th>\n",
       "      <td>88</td>\n",
       "      <td>Vosges</td>\n",
       "      <td>POLYGON ((5.47006 48.42093, 5.51099 48.41822, ...</td>\n",
       "      <td>2</td>\n",
       "      <td>YOLANDE</td>\n",
       "      <td>1952</td>\n",
       "      <td>88</td>\n",
       "      <td>23</td>\n",
       "    </tr>\n",
       "    <tr>\n",
       "      <th>3192393</th>\n",
       "      <td>79</td>\n",
       "      <td>Deux-Sèvres</td>\n",
       "      <td>POLYGON ((-0.89196 46.97582, -0.85592 46.97908...</td>\n",
       "      <td>2</td>\n",
       "      <td>MOISETTE</td>\n",
       "      <td>1939</td>\n",
       "      <td>79</td>\n",
       "      <td>3</td>\n",
       "    </tr>\n",
       "  </tbody>\n",
       "</table>\n",
       "</div>"
      ],
      "text/plain": [
       "        code           nom                                           geometry  \\\n",
       "3568216   78      Yvelines  POLYGON ((2.20059 48.90868, 2.16838 48.89508, ...   \n",
       "2921424   02         Aisne  POLYGON ((4.04797 49.40564, 4.03991 49.39740, ...   \n",
       "1061000   94  Val-de-Marne  POLYGON ((2.33190 48.81701, 2.36395 48.81632, ...   \n",
       "3643767   88        Vosges  POLYGON ((5.47006 48.42093, 5.51099 48.41822, ...   \n",
       "3192393   79   Deux-Sèvres  POLYGON ((-0.89196 46.97582, -0.85592 46.97908...   \n",
       "\n",
       "         sexe  preusuel annais dpt  nombre  \n",
       "3568216     2     TANIA   1989  78       8  \n",
       "2921424     2   MADISON   1996  02       4  \n",
       "1061000     1    MANUEL   1974  94      21  \n",
       "3643767     2   YOLANDE   1952  88      23  \n",
       "3192393     2  MOISETTE   1939  79       3  "
      ]
     },
     "execution_count": 209,
     "metadata": {},
     "output_type": "execute_result"
    }
   ],
   "source": [
    "\n",
    "names_after_merge = departement.merge(names, how='right', left_on='code', right_on='dpt')\n",
    "\n",
    "names_after_merge.sample(5)"
   ]
  },
  {
   "cell_type": "code",
   "execution_count": 211,
   "id": "ffad1e1d",
   "metadata": {},
   "outputs": [],
   "source": [
    "#find the popular name for a given year and departement\n",
    "\n",
    "\n",
    "def popular_name_dep(year,departement):\n",
    "    dpt=''\n",
    "    pop_name='Not defined'\n",
    "    if year in List_year:\n",
    "        for i in range(len(dep_year_popular_name[year])):\n",
    "            df_popular_name=dep_year_popular_name[year][i].sort_values(by=['nombre'],ascending=False)\n",
    "            if df_popular_name[:1].empty:\n",
    "                continue\n",
    "            else:\n",
    "                dpt=df_popular_name[:1][\"dpt\"].values[0]\n",
    "                if departement==dpt:\n",
    "                    pop_name=df_popular_name[:1][\"preusuel\"].values[0]\n",
    "    \n",
    "    return pop_name\n",
    "\n",
    "        "
   ]
  },
  {
   "cell_type": "code",
   "execution_count": 212,
   "id": "4a14cd07",
   "metadata": {},
   "outputs": [],
   "source": [
    "year=\"2000\"\n",
    "dep_year_pop =pd.DataFrame(List_dep, columns =['dpt'])\n",
    "dep_year_pop[\"Pop_name\"]=[1]*len(List_dep)\n",
    "for i in dep_year_pop.index :\n",
    "    dep_year_pop.at[i,'Pop_name']=popular_name_dep(year,dep_year_pop['dpt'].values[i])\n",
    "\n",
    "#no_subset=departement.merge(dep_year_pop, how='right', left_on='code', right_on='dpt')"
   ]
  },
  {
   "cell_type": "code",
   "execution_count": 213,
   "id": "c609dd6c",
   "metadata": {},
   "outputs": [
    {
     "data": {
      "application/vnd.jupyter.widget-view+json": {
       "model_id": "e059e2d41dae497d977c9a3c2e030503",
       "version_major": 2,
       "version_minor": 0
      },
      "text/plain": [
       "interactive(children=(Dropdown(description='year', options=('2017', '2016', '2015', '2014', '2013', '2012', '2…"
      ]
     },
     "metadata": {},
     "output_type": "display_data"
    },
    {
     "data": {
      "text/plain": [
       "<function __main__.make_altair_geo_chart(year, name)>"
      ]
     },
     "execution_count": 213,
     "metadata": {},
     "output_type": "execute_result"
    }
   ],
   "source": [
    "dr_List_year=Dropdown(options=List_year[::-1])\n",
    "li=list(nat_exten_name_popular['2017']['preusuel'])\n",
    "li.insert(0,'.....')\n",
    "dr_name=Dropdown(options=li)\n",
    "\n",
    "def update(*args):\n",
    "    selected_year=dr_List_year.value\n",
    "    li=list(nat_exten_name_popular[dr_List_year.value]['preusuel'])\n",
    "    li.insert(0,'.....')\n",
    "    dr_name.options = list(li)\n",
    "dr_List_year.observe(update)\n",
    "\n",
    "             \n",
    "def make_altair_geo_chart(year,name):\n",
    "      big_subset=[]\n",
    "      if(name=='.....'):\n",
    "        dep_year_pop =pd.DataFrame(List_dep, columns =['dpt'])\n",
    "        dep_year_pop[\"Pop_name\"]=[1]*len(List_dep)\n",
    "        for i in dep_year_pop.index :\n",
    "            dep_year_pop.at[i,'Pop_name']=popular_name_dep(year,dep_year_pop['dpt'].values[i])\n",
    "        n_subset=departement.merge(dep_year_pop, how='right', left_on='code', right_on='dpt')\n",
    "        my_chart=alt.Chart(n_subset).mark_geoshape(stroke='white').encode(\n",
    "        tooltip=['nom:N', 'code:N', 'Pop_name:N'],\n",
    "        color='Pop_name',\n",
    "        ).properties(width=800, height=600)\n",
    "      else:\n",
    "        na_grouped = names.groupby(['dpt', 'preusuel', 'sexe','annais'], as_index=False).sum()\n",
    "        grouped=na_grouped[na_grouped.annais==year] # filter data by selected year\n",
    "        grouped = departement.merge(grouped, how='right', left_on='code', right_on='dpt')\n",
    "        d_subset=grouped[grouped.preusuel == name]   # filter data by selected name\n",
    "        my_chart=alt.Chart(d_subset).mark_geoshape(stroke='white').encode(\n",
    "        tooltip=['preusuel:N','nom:N', 'code:N', 'nombre:N'],\n",
    "        color='nombre',\n",
    "        ).properties(width=800, height=600)\n",
    "        \n",
    "      return my_chart\n",
    "        \n",
    "     \n",
    "      \n",
    "  \n",
    "\n",
    "interact(make_altair_geo_chart, year=dr_List_year, name=dr_name)"
   ]
  }
 ],
 "metadata": {
  "kernelspec": {
   "display_name": "Python 3 (ipykernel)",
   "language": "python",
   "name": "python3"
  },
  "language_info": {
   "codemirror_mode": {
    "name": "ipython",
    "version": 3
   },
   "file_extension": ".py",
   "mimetype": "text/x-python",
   "name": "python",
   "nbconvert_exporter": "python",
   "pygments_lexer": "ipython3",
   "version": "3.9.12"
  }
 },
 "nbformat": 4,
 "nbformat_minor": 5
}
