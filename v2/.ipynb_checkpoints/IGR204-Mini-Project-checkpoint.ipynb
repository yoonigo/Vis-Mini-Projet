{
 "cells": [
  {
   "cell_type": "markdown",
   "id": "bff42e4f",
   "metadata": {},
   "source": [
    "#  Baby names mini-project"
   ]
  },
  {
   "cell_type": "markdown",
   "id": "dec76bf4",
   "metadata": {},
   "source": [
    "### Import  libraries:"
   ]
  },
  {
   "cell_type": "code",
   "execution_count": 94,
   "id": "bc0c5691",
   "metadata": {},
   "outputs": [],
   "source": [
    "import altair as alt\n",
    "import pandas as pd\n",
    "import geopandas as gpd \n",
    "from IPython.display import display\n",
    "\n",
    "alt.data_transformers.enable('json') \n",
    "\n",
    "from ipywidgets import interact, interactive, fixed, interact_manual,Dropdown\n",
    "import ipywidgets as widgets\n",
    "\n",
    "pass"
   ]
  },
  {
   "cell_type": "markdown",
   "id": "56e4072b",
   "metadata": {},
   "source": [
    "### Reading data:"
   ]
  },
  {
   "cell_type": "code",
   "execution_count": 95,
   "id": "bae2c416",
   "metadata": {},
   "outputs": [
    {
     "data": {
      "text/html": [
       "<div>\n",
       "<style scoped>\n",
       "    .dataframe tbody tr th:only-of-type {\n",
       "        vertical-align: middle;\n",
       "    }\n",
       "\n",
       "    .dataframe tbody tr th {\n",
       "        vertical-align: top;\n",
       "    }\n",
       "\n",
       "    .dataframe thead th {\n",
       "        text-align: right;\n",
       "    }\n",
       "</style>\n",
       "<table border=\"1\" class=\"dataframe\">\n",
       "  <thead>\n",
       "    <tr style=\"text-align: right;\">\n",
       "      <th></th>\n",
       "      <th>sexe</th>\n",
       "      <th>preusuel</th>\n",
       "      <th>annais</th>\n",
       "      <th>dpt</th>\n",
       "      <th>nombre</th>\n",
       "    </tr>\n",
       "  </thead>\n",
       "  <tbody>\n",
       "    <tr>\n",
       "      <th>2309012</th>\n",
       "      <td>2</td>\n",
       "      <td>ELIANE</td>\n",
       "      <td>1940</td>\n",
       "      <td>65</td>\n",
       "      <td>8</td>\n",
       "    </tr>\n",
       "    <tr>\n",
       "      <th>139451</th>\n",
       "      <td>1</td>\n",
       "      <td>ANTOINE</td>\n",
       "      <td>1931</td>\n",
       "      <td>71</td>\n",
       "      <td>19</td>\n",
       "    </tr>\n",
       "    <tr>\n",
       "      <th>1328309</th>\n",
       "      <td>1</td>\n",
       "      <td>PAUL</td>\n",
       "      <td>1958</td>\n",
       "      <td>71</td>\n",
       "      <td>15</td>\n",
       "    </tr>\n",
       "    <tr>\n",
       "      <th>3630502</th>\n",
       "      <td>2</td>\n",
       "      <td>TESNIME</td>\n",
       "      <td>2017</td>\n",
       "      <td>93</td>\n",
       "      <td>5</td>\n",
       "    </tr>\n",
       "    <tr>\n",
       "      <th>3210149</th>\n",
       "      <td>2</td>\n",
       "      <td>MÉLISSA</td>\n",
       "      <td>1981</td>\n",
       "      <td>95</td>\n",
       "      <td>8</td>\n",
       "    </tr>\n",
       "    <tr>\n",
       "      <th>436981</th>\n",
       "      <td>1</td>\n",
       "      <td>ELOI</td>\n",
       "      <td>2004</td>\n",
       "      <td>60</td>\n",
       "      <td>3</td>\n",
       "    </tr>\n",
       "    <tr>\n",
       "      <th>2732857</th>\n",
       "      <td>2</td>\n",
       "      <td>JULIETTE</td>\n",
       "      <td>1999</td>\n",
       "      <td>50</td>\n",
       "      <td>26</td>\n",
       "    </tr>\n",
       "    <tr>\n",
       "      <th>41949</th>\n",
       "      <td>1</td>\n",
       "      <td>AHMED</td>\n",
       "      <td>2015</td>\n",
       "      <td>95</td>\n",
       "      <td>28</td>\n",
       "    </tr>\n",
       "    <tr>\n",
       "      <th>2814511</th>\n",
       "      <td>2</td>\n",
       "      <td>LÉA</td>\n",
       "      <td>1995</td>\n",
       "      <td>61</td>\n",
       "      <td>35</td>\n",
       "    </tr>\n",
       "    <tr>\n",
       "      <th>1591851</th>\n",
       "      <td>1</td>\n",
       "      <td>THOMAS</td>\n",
       "      <td>2006</td>\n",
       "      <td>20</td>\n",
       "      <td>28</td>\n",
       "    </tr>\n",
       "  </tbody>\n",
       "</table>\n",
       "</div>"
      ],
      "text/plain": [
       "         sexe  preusuel annais dpt  nombre\n",
       "2309012     2    ELIANE   1940  65       8\n",
       "139451      1   ANTOINE   1931  71      19\n",
       "1328309     1      PAUL   1958  71      15\n",
       "3630502     2   TESNIME   2017  93       5\n",
       "3210149     2   MÉLISSA   1981  95       8\n",
       "436981      1      ELOI   2004  60       3\n",
       "2732857     2  JULIETTE   1999  50      26\n",
       "41949       1     AHMED   2015  95      28\n",
       "2814511     2       LÉA   1995  61      35\n",
       "1591851     1    THOMAS   2006  20      28"
      ]
     },
     "execution_count": 95,
     "metadata": {},
     "output_type": "execute_result"
    }
   ],
   "source": [
    "#### code taken form altair tutorial\n",
    "\n",
    "#national dataset\n",
    "na_data = pd.DataFrame(pd.read_csv(\"nat-data.tsv\", sep=\"\\t\"))\n",
    "na_data.drop(na_data[na_data.preusuel == '_PRENOMS_RARES'].index, inplace=True)\n",
    "na_data.drop(na_data[na_data.annais == 'XXXX'].index, inplace=True)\n",
    "\n",
    "# dataset per departement\n",
    "names = pd.read_csv(\"dpt2020.csv\", sep=\";\")\n",
    "names.drop(names[names.preusuel == '_PRENOMS_RARES'].index, inplace=True)\n",
    "names.drop(names[names.dpt == 'XX'].index, inplace=True)\n",
    "names.drop(names[names.dpt == 'NAN'].index, inplace=True)\n",
    "names.sample(10)\n"
   ]
  },
  {
   "cell_type": "code",
   "execution_count": 174,
   "id": "2e665433",
   "metadata": {},
   "outputs": [
    {
     "data": {
      "text/plain": [
       "(586591, 4)"
      ]
     },
     "execution_count": 174,
     "metadata": {},
     "output_type": "execute_result"
    }
   ],
   "source": [
    "# Just to test visualisation\n",
    "#na_data=na_data[50999:150000]\n",
    "na_data.shape"
   ]
  },
  {
   "cell_type": "markdown",
   "id": "8aa01e52",
   "metadata": {},
   "source": [
    "### DATA MANIPULATION:"
   ]
  },
  {
   "cell_type": "markdown",
   "id": "28348882",
   "metadata": {},
   "source": [
    "###### National data"
   ]
  },
  {
   "cell_type": "code",
   "execution_count": 96,
   "id": "b114f30e",
   "metadata": {},
   "outputs": [
    {
     "data": {
      "text/plain": [
       "'1900'"
      ]
     },
     "execution_count": 96,
     "metadata": {},
     "output_type": "execute_result"
    }
   ],
   "source": [
    "List_name=na_data['preusuel'].unique()\n",
    "\n",
    "List_year=na_data['annais'].unique()\n",
    "\n",
    "nat_data_name={}\n",
    "    \n",
    "List_year.sort()\n",
    "List_year[0]"
   ]
  },
  {
   "cell_type": "code",
   "execution_count": 97,
   "id": "d3aac91e",
   "metadata": {},
   "outputs": [],
   "source": [
    "\n",
    "#distribution by year\n",
    "for i in range(len(List_year)):\n",
    "    nat_data_name[List_year[i]]=na_data.loc[na_data['annais'] == List_year[i]]\n",
    "    "
   ]
  },
  {
   "cell_type": "markdown",
   "id": "358d6947",
   "metadata": {},
   "source": [
    "#### Department data"
   ]
  },
  {
   "cell_type": "code",
   "execution_count": 98,
   "id": "f845248d",
   "metadata": {},
   "outputs": [],
   "source": [
    "year_data_name={}\n",
    "\n",
    "List_dep=names['dpt'].unique()\n",
    "\n",
    "#distribution by year\n",
    "for i in range(len(List_year)):\n",
    "    year_data_name[List_year[i]]=names.loc[names['annais'] == List_year[i]]\n"
   ]
  },
  {
   "cell_type": "code",
   "execution_count": 99,
   "id": "1f8a11f1",
   "metadata": {},
   "outputs": [],
   "source": [
    "# List_name_per_dep=dep_data_name['84']['preusuel'].unique()\n",
    "# List_year_per_dep=dep_data_name['84']['annais'].unique()\n",
    "# List_year_per_dep\n",
    "\n",
    "dep_year_popular_name={}\n",
    "sub_dp_year_popular_name={}\n",
    "sub_sub_dp_year_popular_name={}\n",
    "\n",
    "for i in range(len(List_year)):\n",
    "    dep_year_popular_name[List_year[i]]=[]\n",
    "    for j in List_dep:\n",
    "        sub_dp_year_popular_name[j]=year_data_name[List_year[i]].loc[year_data_name[List_year[i]]['dpt'] ==j]\n",
    "        dep_year_popular_name[List_year[i]].append(sub_dp_year_popular_name[j])"
   ]
  },
  {
   "cell_type": "code",
   "execution_count": 100,
   "id": "e8722901",
   "metadata": {},
   "outputs": [
    {
     "name": "stdout",
     "output_type": "stream",
     "text": [
      "['MARIE', 'JEAN', 'ANDRÉ', 'JEANNE', 'PIERRE', 'RENÉ', 'MARCEL', 'ROGER', 'LOUIS', 'HENRI']\n"
     ]
    }
   ],
   "source": [
    "### find the 10 popular names in each year\n",
    "\n",
    "nat_data_name_popular={}  #dictionnary of the 10 popular names for each year\n",
    "nat_exten_name_popular={} #dictionnary of the 50 popular names for each year\n",
    "    \n",
    "    \n",
    "for i in range(len(List_year)):\n",
    "     nat_data_name[List_year[i]]=nat_data_name[List_year[i]].sort_values(by=['nombre'],ascending=False)\n",
    "     nat_data_name_popular[List_year[i]]=nat_data_name[List_year[i]][:10]\n",
    "     nat_exten_name_popular[List_year[i]]=nat_data_name[List_year[i]][:50]\n",
    "print(list(nat_data_name_popular['1920']['preusuel'])) #perfect  "
   ]
  },
  {
   "cell_type": "markdown",
   "id": "ed1467cb",
   "metadata": {},
   "source": [
    "## Second visualisation"
   ]
  },
  {
   "cell_type": "code",
   "execution_count": 101,
   "id": "4ea9199b",
   "metadata": {},
   "outputs": [
    {
     "data": {
      "text/html": [
       "<div>\n",
       "<style scoped>\n",
       "    .dataframe tbody tr th:only-of-type {\n",
       "        vertical-align: middle;\n",
       "    }\n",
       "\n",
       "    .dataframe tbody tr th {\n",
       "        vertical-align: top;\n",
       "    }\n",
       "\n",
       "    .dataframe thead th {\n",
       "        text-align: right;\n",
       "    }\n",
       "</style>\n",
       "<table border=\"1\" class=\"dataframe\">\n",
       "  <thead>\n",
       "    <tr style=\"text-align: right;\">\n",
       "      <th></th>\n",
       "      <th>code</th>\n",
       "      <th>nom</th>\n",
       "      <th>geometry</th>\n",
       "    </tr>\n",
       "  </thead>\n",
       "  <tbody>\n",
       "    <tr>\n",
       "      <th>6</th>\n",
       "      <td>07</td>\n",
       "      <td>Ardèche</td>\n",
       "      <td>POLYGON ((4.48313 45.23645, 4.54055 45.23475, ...</td>\n",
       "    </tr>\n",
       "    <tr>\n",
       "      <th>82</th>\n",
       "      <td>82</td>\n",
       "      <td>Tarn-et-Garonne</td>\n",
       "      <td>POLYGON ((1.06408 44.37851, 1.10672 44.39235, ...</td>\n",
       "    </tr>\n",
       "    <tr>\n",
       "      <th>85</th>\n",
       "      <td>85</td>\n",
       "      <td>Vendée</td>\n",
       "      <td>MULTIPOLYGON (((-2.30479 46.70942, -2.33559 46...</td>\n",
       "    </tr>\n",
       "    <tr>\n",
       "      <th>62</th>\n",
       "      <td>62</td>\n",
       "      <td>Pas-de-Calais</td>\n",
       "      <td>POLYGON ((2.06771 51.00651, 2.09760 50.99843, ...</td>\n",
       "    </tr>\n",
       "    <tr>\n",
       "      <th>48</th>\n",
       "      <td>48</td>\n",
       "      <td>Lozère</td>\n",
       "      <td>POLYGON ((3.36134 44.97141, 3.38637 44.95274, ...</td>\n",
       "    </tr>\n",
       "  </tbody>\n",
       "</table>\n",
       "</div>"
      ],
      "text/plain": [
       "   code              nom                                           geometry\n",
       "6    07          Ardèche  POLYGON ((4.48313 45.23645, 4.54055 45.23475, ...\n",
       "82   82  Tarn-et-Garonne  POLYGON ((1.06408 44.37851, 1.10672 44.39235, ...\n",
       "85   85           Vendée  MULTIPOLYGON (((-2.30479 46.70942, -2.33559 46...\n",
       "62   62    Pas-de-Calais  POLYGON ((2.06771 51.00651, 2.09760 50.99843, ...\n",
       "48   48           Lozère  POLYGON ((3.36134 44.97141, 3.38637 44.95274, ..."
      ]
     },
     "execution_count": 101,
     "metadata": {},
     "output_type": "execute_result"
    }
   ],
   "source": [
    "# departement data\n",
    "\n",
    "departement = gpd.read_file('departements-version-simplifiee.geojson')\n",
    "\n",
    "departement.sample(5)"
   ]
  },
  {
   "cell_type": "code",
   "execution_count": 102,
   "id": "99734f59",
   "metadata": {},
   "outputs": [
    {
     "data": {
      "text/html": [
       "<div>\n",
       "<style scoped>\n",
       "    .dataframe tbody tr th:only-of-type {\n",
       "        vertical-align: middle;\n",
       "    }\n",
       "\n",
       "    .dataframe tbody tr th {\n",
       "        vertical-align: top;\n",
       "    }\n",
       "\n",
       "    .dataframe thead th {\n",
       "        text-align: right;\n",
       "    }\n",
       "</style>\n",
       "<table border=\"1\" class=\"dataframe\">\n",
       "  <thead>\n",
       "    <tr style=\"text-align: right;\">\n",
       "      <th></th>\n",
       "      <th>code</th>\n",
       "      <th>nom</th>\n",
       "      <th>geometry</th>\n",
       "      <th>sexe</th>\n",
       "      <th>preusuel</th>\n",
       "      <th>annais</th>\n",
       "      <th>dpt</th>\n",
       "      <th>nombre</th>\n",
       "    </tr>\n",
       "  </thead>\n",
       "  <tbody>\n",
       "    <tr>\n",
       "      <th>2859648</th>\n",
       "      <td>29</td>\n",
       "      <td>Finistère</td>\n",
       "      <td>MULTIPOLYGON (((-5.10260 48.43612, -5.10360 48...</td>\n",
       "      <td>2</td>\n",
       "      <td>LOUISE</td>\n",
       "      <td>2017</td>\n",
       "      <td>29</td>\n",
       "      <td>57</td>\n",
       "    </tr>\n",
       "    <tr>\n",
       "      <th>2067465</th>\n",
       "      <td>93</td>\n",
       "      <td>Seine-Saint-Denis</td>\n",
       "      <td>POLYGON ((2.55306 49.00982, 2.58031 48.99159, ...</td>\n",
       "      <td>2</td>\n",
       "      <td>CÉLINE</td>\n",
       "      <td>1990</td>\n",
       "      <td>93</td>\n",
       "      <td>97</td>\n",
       "    </tr>\n",
       "    <tr>\n",
       "      <th>960589</th>\n",
       "      <td>NaN</td>\n",
       "      <td>NaN</td>\n",
       "      <td>None</td>\n",
       "      <td>1</td>\n",
       "      <td>LÉO</td>\n",
       "      <td>1962</td>\n",
       "      <td>971</td>\n",
       "      <td>10</td>\n",
       "    </tr>\n",
       "    <tr>\n",
       "      <th>2581904</th>\n",
       "      <td>77</td>\n",
       "      <td>Seine-et-Marne</td>\n",
       "      <td>POLYGON ((2.57166 48.69201, 2.56880 48.70722, ...</td>\n",
       "      <td>2</td>\n",
       "      <td>ISABELLE</td>\n",
       "      <td>1983</td>\n",
       "      <td>77</td>\n",
       "      <td>30</td>\n",
       "    </tr>\n",
       "    <tr>\n",
       "      <th>611072</th>\n",
       "      <td>14</td>\n",
       "      <td>Calvados</td>\n",
       "      <td>POLYGON ((-1.11962 49.35557, -1.07822 49.38849...</td>\n",
       "      <td>1</td>\n",
       "      <td>GÉRARD</td>\n",
       "      <td>1947</td>\n",
       "      <td>14</td>\n",
       "      <td>290</td>\n",
       "    </tr>\n",
       "  </tbody>\n",
       "</table>\n",
       "</div>"
      ],
      "text/plain": [
       "        code                nom  \\\n",
       "2859648   29          Finistère   \n",
       "2067465   93  Seine-Saint-Denis   \n",
       "960589   NaN                NaN   \n",
       "2581904   77     Seine-et-Marne   \n",
       "611072    14           Calvados   \n",
       "\n",
       "                                                  geometry  sexe  preusuel  \\\n",
       "2859648  MULTIPOLYGON (((-5.10260 48.43612, -5.10360 48...     2    LOUISE   \n",
       "2067465  POLYGON ((2.55306 49.00982, 2.58031 48.99159, ...     2    CÉLINE   \n",
       "960589                                                None     1       LÉO   \n",
       "2581904  POLYGON ((2.57166 48.69201, 2.56880 48.70722, ...     2  ISABELLE   \n",
       "611072   POLYGON ((-1.11962 49.35557, -1.07822 49.38849...     1    GÉRARD   \n",
       "\n",
       "        annais  dpt  nombre  \n",
       "2859648   2017   29      57  \n",
       "2067465   1990   93      97  \n",
       "960589    1962  971      10  \n",
       "2581904   1983   77      30  \n",
       "611072    1947   14     290  "
      ]
     },
     "execution_count": 102,
     "metadata": {},
     "output_type": "execute_result"
    }
   ],
   "source": [
    "\n",
    "names_after_merge = departement.merge(names, how='right', left_on='code', right_on='dpt')\n",
    "\n",
    "names_after_merge.sample(5)"
   ]
  },
  {
   "cell_type": "code",
   "execution_count": 109,
   "id": "047242a4",
   "metadata": {},
   "outputs": [
    {
     "data": {
      "application/vnd.jupyter.widget-view+json": {
       "model_id": "169970e69e2a45899ef224b6a283e09d",
       "version_major": 2,
       "version_minor": 0
      },
      "text/plain": [
       "interactive(children=(Dropdown(description='year', options=('1900', '1901', '1902', '1903', '1904', '1905', '1…"
      ]
     },
     "metadata": {},
     "output_type": "display_data"
    },
    {
     "data": {
      "text/plain": [
       "<function __main__.make_altair_geo_chart(year, name)>"
      ]
     },
     "execution_count": 109,
     "metadata": {},
     "output_type": "execute_result"
    }
   ],
   "source": [
    "#add popular name tp table\n",
    "dr_List_year=Dropdown(options=List_year)\n",
    "dr_name=Dropdown(options=list(nat_exten_name_popular['1990']['preusuel']))\n",
    "\n",
    "def update(*args):\n",
    "    #print(nat_data_name['2016'])\n",
    "    selected_year=dr_List_year.value\n",
    "    #print(selected_year)\n",
    "    dr_name.options = list(nat_exten_name_popular[dr_List_year.value]['preusuel'])\n",
    "dr_List_year.observe(update)\n",
    "             \n",
    "def make_altair_geo_chart(year,name):\n",
    "      big_subset=[]\n",
    "      na_grouped = names.groupby(['dpt', 'preusuel', 'sexe','annais'], as_index=False).sum()\n",
    "      grouped=na_grouped[na_grouped.annais==year] # filter data by selected year\n",
    "      grouped = departement.merge(grouped, how='right', left_on='code', right_on='dpt')\n",
    "      subset=grouped[grouped.preusuel == name]   # filter data by selected name\n",
    "      my_chart=alt.Chart(subset).mark_geoshape(stroke='white').encode(\n",
    "      tooltip=['preusuel:N','nom:N', 'code:N', 'nombre:N'],\n",
    "      color='nombre',\n",
    "      ).properties(width=800, height=600)\n",
    "      return my_chart\n",
    "        \n",
    "  \n",
    "\n",
    "interact(make_altair_geo_chart, year=dr_List_year, name=dr_name)"
   ]
  },
  {
   "cell_type": "code",
   "execution_count": 193,
   "id": "ffad1e1d",
   "metadata": {},
   "outputs": [],
   "source": [
    "#find the popular name for a given year and departement\n",
    "\n",
    "\n",
    "def popular_name_dep(year,departement):\n",
    "    dpt=''\n",
    "    pop_name='Not defined'\n",
    "    if year in List_year:\n",
    "        for i in range(len(dep_year_popular_name[year])):\n",
    "            df_popular_name=dep_year_popular_name[year][i].sort_values(by=['nombre'],ascending=False)\n",
    "            if df_popular_name[:1].empty:\n",
    "                continue\n",
    "            else:\n",
    "                dpt=df_popular_name[:1][\"dpt\"].values[0]\n",
    "                if departement==dpt:\n",
    "                    pop_name=df_popular_name[:1][\"preusuel\"].values[0]\n",
    "    \n",
    "    return pop_name\n",
    "\n",
    "        "
   ]
  },
  {
   "cell_type": "code",
   "execution_count": 107,
   "id": "4a14cd07",
   "metadata": {},
   "outputs": [],
   "source": [
    "year=\"2000\"\n",
    "dep_year_pop =pd.DataFrame(List_dep, columns =['dpt'])\n",
    "dep_year_pop[\"Pop_name\"]=[1]*len(List_dep)\n",
    "for i in dep_year_pop.index :\n",
    "    dep_year_pop.at[i,'Pop_name']=popular_name_dep(year,dep_year_pop['dpt'].values[i])\n",
    "\n",
    "#no_subset=departement.merge(dep_year_pop, how='right', left_on='code', right_on='dpt')"
   ]
  },
  {
   "cell_type": "code",
   "execution_count": 199,
   "id": "c609dd6c",
   "metadata": {},
   "outputs": [
    {
     "data": {
      "application/vnd.jupyter.widget-view+json": {
       "model_id": "9ca6438853e94136903635339d95149c",
       "version_major": 2,
       "version_minor": 0
      },
      "text/plain": [
       "interactive(children=(Dropdown(description='year', options=('2017', '2016', '2015', '2014', '2013', '2012', '2…"
      ]
     },
     "metadata": {},
     "output_type": "display_data"
    },
    {
     "data": {
      "text/plain": [
       "<function __main__.make_altair_geo_chart(year, name)>"
      ]
     },
     "execution_count": 199,
     "metadata": {},
     "output_type": "execute_result"
    }
   ],
   "source": [
    "dr_List_year=Dropdown(options=List_year[::-1])\n",
    "li=list(nat_exten_name_popular['2017']['preusuel'])\n",
    "li.insert(0,'.....')\n",
    "dr_name=Dropdown(options=li)\n",
    "\n",
    "def update(*args):\n",
    "    selected_year=dr_List_year.value\n",
    "    li=list(nat_exten_name_popular[dr_List_year.value]['preusuel'])\n",
    "    li.insert(0,'.....')\n",
    "    dr_name.options = list(li)\n",
    "dr_List_year.observe(update)\n",
    "\n",
    "             \n",
    "def make_altair_geo_chart(year,name):\n",
    "      big_subset=[]\n",
    "      if(name=='.....'):\n",
    "        dep_year_pop =pd.DataFrame(List_dep, columns =['dpt'])\n",
    "        dep_year_pop[\"Pop_name\"]=[1]*len(List_dep)\n",
    "        for i in dep_year_pop.index :\n",
    "            dep_year_pop.at[i,'Pop_name']=popular_name_dep(year,dep_year_pop['dpt'].values[i])\n",
    "        n_subset=departement.merge(dep_year_pop, how='right', left_on='code', right_on='dpt')\n",
    "        my_chart=alt.Chart(n_subset).mark_geoshape(stroke='white').encode(\n",
    "        tooltip=['nom:N', 'code:N', 'Pop_name:N'],\n",
    "        color='Pop_name',\n",
    "        ).properties(width=800, height=600)\n",
    "      else:\n",
    "        na_grouped = names.groupby(['dpt', 'preusuel', 'sexe','annais'], as_index=False).sum()\n",
    "        grouped=na_grouped[na_grouped.annais==year] # filter data by selected year\n",
    "        grouped = departement.merge(grouped, how='right', left_on='code', right_on='dpt')\n",
    "        d_subset=grouped[grouped.preusuel == name]   # filter data by selected name\n",
    "        my_chart=alt.Chart(d_subset).mark_geoshape(stroke='white').encode(\n",
    "        tooltip=['preusuel:N','nom:N', 'code:N', 'nombre:N'],\n",
    "        color='nombre',\n",
    "        ).properties(width=800, height=600)\n",
    "        \n",
    "      return my_chart\n",
    "        \n",
    "     \n",
    "      \n",
    "  \n",
    "\n",
    "interact(make_altair_geo_chart, year=dr_List_year, name=dr_name)"
   ]
  }
 ],
 "metadata": {
  "kernelspec": {
   "display_name": "Python 3 (ipykernel)",
   "language": "python",
   "name": "python3"
  },
  "language_info": {
   "codemirror_mode": {
    "name": "ipython",
    "version": 3
   },
   "file_extension": ".py",
   "mimetype": "text/x-python",
   "name": "python",
   "nbconvert_exporter": "python",
   "pygments_lexer": "ipython3",
   "version": "3.9.12"
  }
 },
 "nbformat": 4,
 "nbformat_minor": 5
}
